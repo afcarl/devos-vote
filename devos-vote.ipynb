{
 "cells": [
  {
   "cell_type": "markdown",
   "metadata": {},
   "source": [
    "Senators voting against the nomination of DeVos represent 56% of the population of the United States. (Or more specifically, the portion of the population of the United States that lives in places that are represented by senators.)"
   ]
  },
  {
   "cell_type": "code",
   "execution_count": 57,
   "metadata": {
    "collapsed": true
   },
   "outputs": [],
   "source": [
    "import csv\n",
    "import re"
   ]
  },
  {
   "cell_type": "code",
   "execution_count": 58,
   "metadata": {
    "collapsed": false
   },
   "outputs": [],
   "source": [
    "state_abbrev_map = dict()\n",
    "state_data = csv.DictReader(open(\"state_table.csv\"))\n",
    "for item in state_data:\n",
    "    state_abbrev_map[item['abbreviation']] = item['name']"
   ]
  },
  {
   "cell_type": "code",
   "execution_count": 59,
   "metadata": {
    "collapsed": false
   },
   "outputs": [],
   "source": [
    "state_pop_map = dict()\n",
    "pop_data = csv.DictReader(open(\"census-state-populations.csv\"))\n",
    "for item in pop_data:\n",
    "    state_pop_map[item['state']] = int(item['pop_est_2014'])"
   ]
  },
  {
   "cell_type": "code",
   "execution_count": 60,
   "metadata": {
    "collapsed": false
   },
   "outputs": [
    {
     "data": {
      "text/plain": [
       "{'AK': ['Nay', 'Yea'],\n",
       " 'AL': ['Yea', 'Yea'],\n",
       " 'AR': ['Yea', 'Yea'],\n",
       " 'AZ': ['Yea', 'Yea'],\n",
       " 'CA': ['Nay', 'Nay'],\n",
       " 'CO': ['Nay', 'Yea'],\n",
       " 'CT': ['Nay', 'Nay'],\n",
       " 'DE': ['Nay', 'Nay'],\n",
       " 'FL': ['Nay', 'Yea'],\n",
       " 'GA': ['Yea', 'Yea'],\n",
       " 'HI': ['Nay', 'Nay'],\n",
       " 'IA': ['Yea', 'Yea'],\n",
       " 'ID': ['Yea', 'Yea'],\n",
       " 'IL': ['Nay', 'Nay'],\n",
       " 'IN': ['Nay', 'Yea'],\n",
       " 'KS': ['Yea', 'Yea'],\n",
       " 'KY': ['Yea', 'Yea'],\n",
       " 'LA': ['Yea', 'Yea'],\n",
       " 'MA': ['Nay', 'Nay'],\n",
       " 'MD': ['Nay', 'Nay'],\n",
       " 'ME': ['Nay', 'Nay'],\n",
       " 'MI': ['Nay', 'Nay'],\n",
       " 'MN': ['Nay', 'Nay'],\n",
       " 'MO': ['Yea', 'Nay'],\n",
       " 'MS': ['Yea', 'Yea'],\n",
       " 'MT': ['Yea', 'Nay'],\n",
       " 'NC': ['Yea', 'Yea'],\n",
       " 'ND': ['Nay', 'Yea'],\n",
       " 'NE': ['Yea', 'Yea'],\n",
       " 'NH': ['Nay', 'Nay'],\n",
       " 'NJ': ['Nay', 'Nay'],\n",
       " 'NM': ['Nay', 'Nay'],\n",
       " 'NV': ['Nay', 'Yea'],\n",
       " 'NY': ['Nay', 'Nay'],\n",
       " 'OH': ['Nay', 'Yea'],\n",
       " 'OK': ['Yea', 'Yea'],\n",
       " 'OR': ['Nay', 'Nay'],\n",
       " 'PA': ['Nay', 'Yea'],\n",
       " 'RI': ['Nay', 'Nay'],\n",
       " 'SC': ['Yea', 'Yea'],\n",
       " 'SD': ['Yea', 'Yea'],\n",
       " 'TN': ['Yea', 'Yea'],\n",
       " 'TX': ['Yea', 'Yea'],\n",
       " 'UT': ['Yea', 'Yea'],\n",
       " 'VA': ['Nay', 'Nay'],\n",
       " 'VT': ['Nay', 'Nay'],\n",
       " 'WA': ['Nay', 'Nay'],\n",
       " 'WI': ['Nay', 'Yea'],\n",
       " 'WV': ['Yea', 'Nay'],\n",
       " 'WY': ['Yea', 'Yea']}"
      ]
     },
     "execution_count": 60,
     "metadata": {},
     "output_type": "execute_result"
    }
   ],
   "source": [
    "votes_by_state = dict()\n",
    "for line in open(\"votes.txt\").readlines():\n",
    "    name, party, state_abbrev, vote = re.search(r\"^(.*?) \\((\\w)-(\\w\\w)\\), (Yea|Nay)\", line).groups()\n",
    "    #print(name, party, state_abbrev, vote)\n",
    "    if state_abbrev not in votes_by_state:\n",
    "        votes_by_state[state_abbrev] = []\n",
    "    votes_by_state[state_abbrev].append(vote)\n",
    "len(votes_by_state)\n",
    "votes_by_state"
   ]
  },
  {
   "cell_type": "code",
   "execution_count": 61,
   "metadata": {
    "collapsed": false
   },
   "outputs": [
    {
     "name": "stdout",
     "output_type": "stream",
     "text": [
      "{'Nay': 177809346.5, 'Yea': 140388816.5}\n",
      "318198163.0\n",
      "318198163\n"
     ]
    }
   ],
   "source": [
    "votes_dict = {'Yea': 0, 'Nay': 0}\n",
    "for state_abbrev, votes in votes_by_state.items():\n",
    "    for vote in votes:\n",
    "        # allocate half of the state's population for each vote\n",
    "        votes_dict[vote] += state_pop_map[state_abbrev_map[state_abbrev]] * 0.5\n",
    "print(votes_dict)\n",
    "print(sum(votes_dict.values()))\n",
    "# no senators for DC 😢\n",
    "total_pop = sum(state_pop_map.values()) - state_pop_map['District of Columbia']\n",
    "print(total_pop) "
   ]
  },
  {
   "cell_type": "code",
   "execution_count": 62,
   "metadata": {
    "collapsed": false
   },
   "outputs": [
    {
     "name": "stdout",
     "output_type": "stream",
     "text": [
      "Nay vote percentage: 56%\n",
      "Yea vote percentage: 44%\n"
     ]
    }
   ],
   "source": [
    "print(\"Nay vote percentage: %2.0f%%\" % ((votes_dict['Nay'] / total_pop)*100))\n",
    "print(\"Yea vote percentage: %2.0f%%\" % ((votes_dict['Yea'] / total_pop)*100))"
   ]
  }
 ],
 "metadata": {
  "kernelspec": {
   "display_name": "Python 3",
   "language": "python",
   "name": "python3"
  },
  "language_info": {
   "codemirror_mode": {
    "name": "ipython",
    "version": 3
   },
   "file_extension": ".py",
   "mimetype": "text/x-python",
   "name": "python",
   "nbconvert_exporter": "python",
   "pygments_lexer": "ipython3",
   "version": "3.5.1"
  }
 },
 "nbformat": 4,
 "nbformat_minor": 0
}
